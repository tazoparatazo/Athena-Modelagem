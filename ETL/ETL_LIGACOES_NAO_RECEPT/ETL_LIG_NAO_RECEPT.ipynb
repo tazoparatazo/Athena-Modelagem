{
  "nbformat": 4,
  "nbformat_minor": 0,
  "metadata": {
    "colab": {
      "provenance": [],
      "collapsed_sections": [
        "O8qTCDTK-LX5",
        "54mit9Lu-5kX"
      ]
    },
    "kernelspec": {
      "name": "python3",
      "display_name": "Python 3"
    },
    "language_info": {
      "name": "python"
    }
  },
  "cells": [
    {
      "cell_type": "markdown",
      "source": [
        "#**. Executar Extração**"
      ],
      "metadata": {
        "id": "5-UVKC9__Y1J"
      }
    },
    {
      "cell_type": "markdown",
      "source": [
        "##**. Instalação**"
      ],
      "metadata": {
        "id": "O8qTCDTK-LX5"
      }
    },
    {
      "cell_type": "code",
      "execution_count": null,
      "metadata": {
        "colab": {
          "base_uri": "https://localhost:8080/"
        },
        "cellView": "form",
        "id": "AgmxznBb0tqh",
        "outputId": "e004fbaf-e1a8-46a5-9e11-1178b67ac07e"
      },
      "outputs": [
        {
          "output_type": "stream",
          "name": "stdout",
          "text": [
            "Looking in indexes: https://pypi.org/simple, https://us-python.pkg.dev/colab-wheels/public/simple/\n",
            "Requirement already satisfied: pandas in /usr/local/lib/python3.7/dist-packages (1.3.5)\n",
            "Requirement already satisfied: python-dateutil>=2.7.3 in /usr/local/lib/python3.7/dist-packages (from pandas) (2.8.2)\n",
            "Requirement already satisfied: numpy>=1.17.3 in /usr/local/lib/python3.7/dist-packages (from pandas) (1.21.6)\n",
            "Requirement already satisfied: pytz>=2017.3 in /usr/local/lib/python3.7/dist-packages (from pandas) (2022.4)\n",
            "Requirement already satisfied: six>=1.5 in /usr/local/lib/python3.7/dist-packages (from python-dateutil>=2.7.3->pandas) (1.15.0)\n",
            "Looking in indexes: https://pypi.org/simple, https://us-python.pkg.dev/colab-wheels/public/simple/\n",
            "Collecting gcsfs\n",
            "  Downloading gcsfs-2022.8.2-py2.py3-none-any.whl (25 kB)\n",
            "Requirement already satisfied: google-auth>=1.2 in /usr/local/lib/python3.7/dist-packages (from gcsfs) (1.35.0)\n",
            "Requirement already satisfied: aiohttp!=4.0.0a0,!=4.0.0a1 in /usr/local/lib/python3.7/dist-packages (from gcsfs) (3.8.3)\n",
            "Requirement already satisfied: google-auth-oauthlib in /usr/local/lib/python3.7/dist-packages (from gcsfs) (0.4.6)\n",
            "Requirement already satisfied: google-cloud-storage in /usr/local/lib/python3.7/dist-packages (from gcsfs) (1.18.1)\n",
            "Requirement already satisfied: requests in /usr/local/lib/python3.7/dist-packages (from gcsfs) (2.23.0)\n",
            "Requirement already satisfied: fsspec==2022.8.2 in /usr/local/lib/python3.7/dist-packages (from gcsfs) (2022.8.2)\n",
            "Requirement already satisfied: decorator>4.1.2 in /usr/local/lib/python3.7/dist-packages (from gcsfs) (4.4.2)\n",
            "Requirement already satisfied: charset-normalizer<3.0,>=2.0 in /usr/local/lib/python3.7/dist-packages (from aiohttp!=4.0.0a0,!=4.0.0a1->gcsfs) (2.1.1)\n",
            "Requirement already satisfied: aiosignal>=1.1.2 in /usr/local/lib/python3.7/dist-packages (from aiohttp!=4.0.0a0,!=4.0.0a1->gcsfs) (1.2.0)\n",
            "Requirement already satisfied: frozenlist>=1.1.1 in /usr/local/lib/python3.7/dist-packages (from aiohttp!=4.0.0a0,!=4.0.0a1->gcsfs) (1.3.1)\n",
            "Requirement already satisfied: async-timeout<5.0,>=4.0.0a3 in /usr/local/lib/python3.7/dist-packages (from aiohttp!=4.0.0a0,!=4.0.0a1->gcsfs) (4.0.2)\n",
            "Requirement already satisfied: attrs>=17.3.0 in /usr/local/lib/python3.7/dist-packages (from aiohttp!=4.0.0a0,!=4.0.0a1->gcsfs) (22.1.0)\n",
            "Requirement already satisfied: typing-extensions>=3.7.4 in /usr/local/lib/python3.7/dist-packages (from aiohttp!=4.0.0a0,!=4.0.0a1->gcsfs) (4.1.1)\n",
            "Requirement already satisfied: multidict<7.0,>=4.5 in /usr/local/lib/python3.7/dist-packages (from aiohttp!=4.0.0a0,!=4.0.0a1->gcsfs) (6.0.2)\n",
            "Requirement already satisfied: yarl<2.0,>=1.0 in /usr/local/lib/python3.7/dist-packages (from aiohttp!=4.0.0a0,!=4.0.0a1->gcsfs) (1.8.1)\n",
            "Requirement already satisfied: asynctest==0.13.0 in /usr/local/lib/python3.7/dist-packages (from aiohttp!=4.0.0a0,!=4.0.0a1->gcsfs) (0.13.0)\n",
            "Requirement already satisfied: rsa<5,>=3.1.4 in /usr/local/lib/python3.7/dist-packages (from google-auth>=1.2->gcsfs) (4.9)\n",
            "Requirement already satisfied: six>=1.9.0 in /usr/local/lib/python3.7/dist-packages (from google-auth>=1.2->gcsfs) (1.15.0)\n",
            "Requirement already satisfied: pyasn1-modules>=0.2.1 in /usr/local/lib/python3.7/dist-packages (from google-auth>=1.2->gcsfs) (0.2.8)\n",
            "Requirement already satisfied: cachetools<5.0,>=2.0.0 in /usr/local/lib/python3.7/dist-packages (from google-auth>=1.2->gcsfs) (4.2.4)\n",
            "Requirement already satisfied: setuptools>=40.3.0 in /usr/local/lib/python3.7/dist-packages (from google-auth>=1.2->gcsfs) (57.4.0)\n",
            "Requirement already satisfied: pyasn1<0.5.0,>=0.4.6 in /usr/local/lib/python3.7/dist-packages (from pyasn1-modules>=0.2.1->google-auth>=1.2->gcsfs) (0.4.8)\n",
            "Requirement already satisfied: idna>=2.0 in /usr/local/lib/python3.7/dist-packages (from yarl<2.0,>=1.0->aiohttp!=4.0.0a0,!=4.0.0a1->gcsfs) (2.10)\n",
            "Requirement already satisfied: requests-oauthlib>=0.7.0 in /usr/local/lib/python3.7/dist-packages (from google-auth-oauthlib->gcsfs) (1.3.1)\n",
            "Requirement already satisfied: oauthlib>=3.0.0 in /usr/local/lib/python3.7/dist-packages (from requests-oauthlib>=0.7.0->google-auth-oauthlib->gcsfs) (3.2.1)\n",
            "Requirement already satisfied: urllib3!=1.25.0,!=1.25.1,<1.26,>=1.21.1 in /usr/local/lib/python3.7/dist-packages (from requests->gcsfs) (1.24.3)\n",
            "Requirement already satisfied: certifi>=2017.4.17 in /usr/local/lib/python3.7/dist-packages (from requests->gcsfs) (2022.9.24)\n",
            "Requirement already satisfied: chardet<4,>=3.0.2 in /usr/local/lib/python3.7/dist-packages (from requests->gcsfs) (3.0.4)\n",
            "Requirement already satisfied: google-resumable-media<0.5.0dev,>=0.3.1 in /usr/local/lib/python3.7/dist-packages (from google-cloud-storage->gcsfs) (0.4.1)\n",
            "Requirement already satisfied: google-cloud-core<2.0dev,>=1.0.0 in /usr/local/lib/python3.7/dist-packages (from google-cloud-storage->gcsfs) (1.0.3)\n",
            "Requirement already satisfied: google-api-core<2.0.0dev,>=1.14.0 in /usr/local/lib/python3.7/dist-packages (from google-cloud-core<2.0dev,>=1.0.0->google-cloud-storage->gcsfs) (1.31.6)\n",
            "Requirement already satisfied: packaging>=14.3 in /usr/local/lib/python3.7/dist-packages (from google-api-core<2.0.0dev,>=1.14.0->google-cloud-core<2.0dev,>=1.0.0->google-cloud-storage->gcsfs) (21.3)\n",
            "Requirement already satisfied: pytz in /usr/local/lib/python3.7/dist-packages (from google-api-core<2.0.0dev,>=1.14.0->google-cloud-core<2.0dev,>=1.0.0->google-cloud-storage->gcsfs) (2022.4)\n",
            "Requirement already satisfied: googleapis-common-protos<2.0dev,>=1.6.0 in /usr/local/lib/python3.7/dist-packages (from google-api-core<2.0.0dev,>=1.14.0->google-cloud-core<2.0dev,>=1.0.0->google-cloud-storage->gcsfs) (1.56.4)\n",
            "Requirement already satisfied: protobuf<4.0.0dev,>=3.12.0 in /usr/local/lib/python3.7/dist-packages (from google-api-core<2.0.0dev,>=1.14.0->google-cloud-core<2.0dev,>=1.0.0->google-cloud-storage->gcsfs) (3.17.3)\n",
            "Requirement already satisfied: pyparsing!=3.0.5,>=2.0.2 in /usr/local/lib/python3.7/dist-packages (from packaging>=14.3->google-api-core<2.0.0dev,>=1.14.0->google-cloud-core<2.0dev,>=1.0.0->google-cloud-storage->gcsfs) (3.0.9)\n",
            "Installing collected packages: gcsfs\n",
            "Successfully installed gcsfs-2022.8.2\n"
          ]
        }
      ],
      "source": [
        "# @title Instalação\n",
        "!pip install pandas\n",
        "!pip install gcsfs"
      ]
    },
    {
      "cell_type": "markdown",
      "source": [
        "##**. Setup**"
      ],
      "metadata": {
        "id": "e4grHbth-OMf"
      }
    },
    {
      "cell_type": "code",
      "execution_count": null,
      "metadata": {
        "id": "w6MmeBUBJ-9E"
      },
      "outputs": [],
      "source": [
        "# @title Setup\n",
        "\n",
        "from google.colab import auth\n",
        "from google.cloud import bigquery\n",
        "from google.colab import data_table\n",
        "from google.cloud import storage\n",
        "import pandas as pd\n",
        "import os\n",
        "\n",
        "project = 'athenas-364914' \n",
        "location = 'US' \n",
        "client = bigquery.Client(project=project, location=location)\n",
        "data_table.enable_dataframe_formatter()\n",
        "auth.authenticate_user()"
      ]
    },
    {
      "cell_type": "markdown",
      "source": [
        "##**. Visualização de Querry**"
      ],
      "metadata": {
        "id": "EWYevFn5-bDx"
      }
    },
    {
      "cell_type": "code",
      "source": [
        "# @title SQL de consulta\n",
        "\n",
        "job = client.get_job('bquxjob_748b07d6_183c4030139') \n",
        "print(job.query)"
      ],
      "metadata": {
        "colab": {
          "base_uri": "https://localhost:8080/"
        },
        "id": "azhY4dCK11hM",
        "outputId": "0433357e-bd55-435d-ff4b-1c08b85d3729",
        "cellView": "form"
      },
      "execution_count": null,
      "outputs": [
        {
          "output_type": "stream",
          "name": "stdout",
          "text": [
            "SELECT\r\n",
            "  `athenas-364914.Athenas2.Ligacoes_dist`.midia AS TIPO_MIDIA,\r\n",
            "  FORMAT_DATETIME('%m/%y',`athenas-364914.Athenas2.Ligacoes_dist`.created_at)AS MES_ANO,\r\n",
            "  COUNT(`athenas-364914.Athenas2.Ligacoes_dist`.status_id) AS QUANTIDADE\r\n",
            "FROM\r\n",
            "  `athenas-364914.Athenas2.Ligacoes_dist`\r\n",
            "WHERE\r\n",
            "  `athenas-364914.Athenas2.Ligacoes_dist`.status_id NOT IN(57,\r\n",
            "    100)\r\n",
            "GROUP BY\r\n",
            "  MES_ANO,\r\n",
            "  TIPO_MIDIA;\n"
          ]
        }
      ]
    },
    {
      "cell_type": "markdown",
      "source": [
        "##**. Visualização de Dados**"
      ],
      "metadata": {
        "id": "tYE7EOjF-U_n"
      }
    },
    {
      "cell_type": "code",
      "source": [
        "# @title Visualização\n",
        "\n",
        "job = client.get_job('bquxjob_748b07d6_183c4030139') \n",
        "results = job.to_dataframe()\n",
        "results"
      ],
      "metadata": {
        "colab": {
          "base_uri": "https://localhost:8080/",
          "height": 637
        },
        "id": "hZ1NUxs72Bfo",
        "outputId": "2221f62c-c7d6-4207-98a5-e5c11a8b5837",
        "cellView": "form"
      },
      "execution_count": null,
      "outputs": [
        {
          "output_type": "execute_result",
          "data": {
            "text/plain": [
              "   TIPO_MIDIA MES_ANO  QUANTIDADE\n",
              "0         CPC    None        3160\n",
              "1     ORGANIC    None        9965\n",
              "2         SMS    None         660\n",
              "3     ORGANIC   06/20         420\n",
              "4     ORGANIC   09/20         812\n",
              "5     ORGANIC   01/20         915\n",
              "6     ORGANIC   05/20         580\n",
              "7     ORGANIC   12/20         533\n",
              "8     ORGANIC   08/20         821\n",
              "9     ORGANIC   10/20         712\n",
              "10    ORGANIC   04/20         717\n",
              "11        CPC   12/20         204\n",
              "12        CPC   09/20         219\n",
              "13        CPC   04/20         183\n",
              "14    ORGANIC   11/20         498\n",
              "15    ORGANIC   02/20         825\n",
              "16    ORGANIC   03/20         738\n",
              "17        CPC   05/20         155\n",
              "18        CPC   11/20         188\n",
              "19        CPC   06/20         154\n",
              "20        SMS   01/20          32\n",
              "21        SMS   03/20          34\n",
              "22        SMS   10/20          35\n",
              "23        SMS   04/20          15\n",
              "24        SMS   12/20          62\n",
              "25        SMS   02/20          15\n",
              "26        SMS   09/20          25\n",
              "27        CPC   08/20         234\n",
              "28        CPC   01/20         165\n",
              "29        CPC   02/20         180\n",
              "30        CPC   10/20         186\n",
              "31        CPC   03/20         176\n",
              "32        SMS   05/20          21\n",
              "33        SMS   08/20          25\n",
              "34        SMS   06/20          12\n",
              "35        SMS   11/20          33"
            ],
            "text/html": [
              "\n",
              "  <div id=\"df-4b790dae-03c1-4f87-88c2-1d34ee09471b\">\n",
              "    <div class=\"colab-df-container\">\n",
              "      <div>\n",
              "<style scoped>\n",
              "    .dataframe tbody tr th:only-of-type {\n",
              "        vertical-align: middle;\n",
              "    }\n",
              "\n",
              "    .dataframe tbody tr th {\n",
              "        vertical-align: top;\n",
              "    }\n",
              "\n",
              "    .dataframe thead th {\n",
              "        text-align: right;\n",
              "    }\n",
              "</style>\n",
              "<table border=\"1\" class=\"dataframe\">\n",
              "  <thead>\n",
              "    <tr style=\"text-align: right;\">\n",
              "      <th></th>\n",
              "      <th>TIPO_MIDIA</th>\n",
              "      <th>MES_ANO</th>\n",
              "      <th>QUANTIDADE</th>\n",
              "    </tr>\n",
              "  </thead>\n",
              "  <tbody>\n",
              "    <tr>\n",
              "      <th>0</th>\n",
              "      <td>CPC</td>\n",
              "      <td>None</td>\n",
              "      <td>3160</td>\n",
              "    </tr>\n",
              "    <tr>\n",
              "      <th>1</th>\n",
              "      <td>ORGANIC</td>\n",
              "      <td>None</td>\n",
              "      <td>9965</td>\n",
              "    </tr>\n",
              "    <tr>\n",
              "      <th>2</th>\n",
              "      <td>SMS</td>\n",
              "      <td>None</td>\n",
              "      <td>660</td>\n",
              "    </tr>\n",
              "    <tr>\n",
              "      <th>3</th>\n",
              "      <td>ORGANIC</td>\n",
              "      <td>06/20</td>\n",
              "      <td>420</td>\n",
              "    </tr>\n",
              "    <tr>\n",
              "      <th>4</th>\n",
              "      <td>ORGANIC</td>\n",
              "      <td>09/20</td>\n",
              "      <td>812</td>\n",
              "    </tr>\n",
              "    <tr>\n",
              "      <th>5</th>\n",
              "      <td>ORGANIC</td>\n",
              "      <td>01/20</td>\n",
              "      <td>915</td>\n",
              "    </tr>\n",
              "    <tr>\n",
              "      <th>6</th>\n",
              "      <td>ORGANIC</td>\n",
              "      <td>05/20</td>\n",
              "      <td>580</td>\n",
              "    </tr>\n",
              "    <tr>\n",
              "      <th>7</th>\n",
              "      <td>ORGANIC</td>\n",
              "      <td>12/20</td>\n",
              "      <td>533</td>\n",
              "    </tr>\n",
              "    <tr>\n",
              "      <th>8</th>\n",
              "      <td>ORGANIC</td>\n",
              "      <td>08/20</td>\n",
              "      <td>821</td>\n",
              "    </tr>\n",
              "    <tr>\n",
              "      <th>9</th>\n",
              "      <td>ORGANIC</td>\n",
              "      <td>10/20</td>\n",
              "      <td>712</td>\n",
              "    </tr>\n",
              "    <tr>\n",
              "      <th>10</th>\n",
              "      <td>ORGANIC</td>\n",
              "      <td>04/20</td>\n",
              "      <td>717</td>\n",
              "    </tr>\n",
              "    <tr>\n",
              "      <th>11</th>\n",
              "      <td>CPC</td>\n",
              "      <td>12/20</td>\n",
              "      <td>204</td>\n",
              "    </tr>\n",
              "    <tr>\n",
              "      <th>12</th>\n",
              "      <td>CPC</td>\n",
              "      <td>09/20</td>\n",
              "      <td>219</td>\n",
              "    </tr>\n",
              "    <tr>\n",
              "      <th>13</th>\n",
              "      <td>CPC</td>\n",
              "      <td>04/20</td>\n",
              "      <td>183</td>\n",
              "    </tr>\n",
              "    <tr>\n",
              "      <th>14</th>\n",
              "      <td>ORGANIC</td>\n",
              "      <td>11/20</td>\n",
              "      <td>498</td>\n",
              "    </tr>\n",
              "    <tr>\n",
              "      <th>15</th>\n",
              "      <td>ORGANIC</td>\n",
              "      <td>02/20</td>\n",
              "      <td>825</td>\n",
              "    </tr>\n",
              "    <tr>\n",
              "      <th>16</th>\n",
              "      <td>ORGANIC</td>\n",
              "      <td>03/20</td>\n",
              "      <td>738</td>\n",
              "    </tr>\n",
              "    <tr>\n",
              "      <th>17</th>\n",
              "      <td>CPC</td>\n",
              "      <td>05/20</td>\n",
              "      <td>155</td>\n",
              "    </tr>\n",
              "    <tr>\n",
              "      <th>18</th>\n",
              "      <td>CPC</td>\n",
              "      <td>11/20</td>\n",
              "      <td>188</td>\n",
              "    </tr>\n",
              "    <tr>\n",
              "      <th>19</th>\n",
              "      <td>CPC</td>\n",
              "      <td>06/20</td>\n",
              "      <td>154</td>\n",
              "    </tr>\n",
              "    <tr>\n",
              "      <th>20</th>\n",
              "      <td>SMS</td>\n",
              "      <td>01/20</td>\n",
              "      <td>32</td>\n",
              "    </tr>\n",
              "    <tr>\n",
              "      <th>21</th>\n",
              "      <td>SMS</td>\n",
              "      <td>03/20</td>\n",
              "      <td>34</td>\n",
              "    </tr>\n",
              "    <tr>\n",
              "      <th>22</th>\n",
              "      <td>SMS</td>\n",
              "      <td>10/20</td>\n",
              "      <td>35</td>\n",
              "    </tr>\n",
              "    <tr>\n",
              "      <th>23</th>\n",
              "      <td>SMS</td>\n",
              "      <td>04/20</td>\n",
              "      <td>15</td>\n",
              "    </tr>\n",
              "    <tr>\n",
              "      <th>24</th>\n",
              "      <td>SMS</td>\n",
              "      <td>12/20</td>\n",
              "      <td>62</td>\n",
              "    </tr>\n",
              "    <tr>\n",
              "      <th>25</th>\n",
              "      <td>SMS</td>\n",
              "      <td>02/20</td>\n",
              "      <td>15</td>\n",
              "    </tr>\n",
              "    <tr>\n",
              "      <th>26</th>\n",
              "      <td>SMS</td>\n",
              "      <td>09/20</td>\n",
              "      <td>25</td>\n",
              "    </tr>\n",
              "    <tr>\n",
              "      <th>27</th>\n",
              "      <td>CPC</td>\n",
              "      <td>08/20</td>\n",
              "      <td>234</td>\n",
              "    </tr>\n",
              "    <tr>\n",
              "      <th>28</th>\n",
              "      <td>CPC</td>\n",
              "      <td>01/20</td>\n",
              "      <td>165</td>\n",
              "    </tr>\n",
              "    <tr>\n",
              "      <th>29</th>\n",
              "      <td>CPC</td>\n",
              "      <td>02/20</td>\n",
              "      <td>180</td>\n",
              "    </tr>\n",
              "    <tr>\n",
              "      <th>30</th>\n",
              "      <td>CPC</td>\n",
              "      <td>10/20</td>\n",
              "      <td>186</td>\n",
              "    </tr>\n",
              "    <tr>\n",
              "      <th>31</th>\n",
              "      <td>CPC</td>\n",
              "      <td>03/20</td>\n",
              "      <td>176</td>\n",
              "    </tr>\n",
              "    <tr>\n",
              "      <th>32</th>\n",
              "      <td>SMS</td>\n",
              "      <td>05/20</td>\n",
              "      <td>21</td>\n",
              "    </tr>\n",
              "    <tr>\n",
              "      <th>33</th>\n",
              "      <td>SMS</td>\n",
              "      <td>08/20</td>\n",
              "      <td>25</td>\n",
              "    </tr>\n",
              "    <tr>\n",
              "      <th>34</th>\n",
              "      <td>SMS</td>\n",
              "      <td>06/20</td>\n",
              "      <td>12</td>\n",
              "    </tr>\n",
              "    <tr>\n",
              "      <th>35</th>\n",
              "      <td>SMS</td>\n",
              "      <td>11/20</td>\n",
              "      <td>33</td>\n",
              "    </tr>\n",
              "  </tbody>\n",
              "</table>\n",
              "</div>\n",
              "      <button class=\"colab-df-convert\" onclick=\"convertToInteractive('df-4b790dae-03c1-4f87-88c2-1d34ee09471b')\"\n",
              "              title=\"Convert this dataframe to an interactive table.\"\n",
              "              style=\"display:none;\">\n",
              "        \n",
              "  <svg xmlns=\"http://www.w3.org/2000/svg\" height=\"24px\"viewBox=\"0 0 24 24\"\n",
              "       width=\"24px\">\n",
              "    <path d=\"M0 0h24v24H0V0z\" fill=\"none\"/>\n",
              "    <path d=\"M18.56 5.44l.94 2.06.94-2.06 2.06-.94-2.06-.94-.94-2.06-.94 2.06-2.06.94zm-11 1L8.5 8.5l.94-2.06 2.06-.94-2.06-.94L8.5 2.5l-.94 2.06-2.06.94zm10 10l.94 2.06.94-2.06 2.06-.94-2.06-.94-.94-2.06-.94 2.06-2.06.94z\"/><path d=\"M17.41 7.96l-1.37-1.37c-.4-.4-.92-.59-1.43-.59-.52 0-1.04.2-1.43.59L10.3 9.45l-7.72 7.72c-.78.78-.78 2.05 0 2.83L4 21.41c.39.39.9.59 1.41.59.51 0 1.02-.2 1.41-.59l7.78-7.78 2.81-2.81c.8-.78.8-2.07 0-2.86zM5.41 20L4 18.59l7.72-7.72 1.47 1.35L5.41 20z\"/>\n",
              "  </svg>\n",
              "      </button>\n",
              "      \n",
              "  <style>\n",
              "    .colab-df-container {\n",
              "      display:flex;\n",
              "      flex-wrap:wrap;\n",
              "      gap: 12px;\n",
              "    }\n",
              "\n",
              "    .colab-df-convert {\n",
              "      background-color: #E8F0FE;\n",
              "      border: none;\n",
              "      border-radius: 50%;\n",
              "      cursor: pointer;\n",
              "      display: none;\n",
              "      fill: #1967D2;\n",
              "      height: 32px;\n",
              "      padding: 0 0 0 0;\n",
              "      width: 32px;\n",
              "    }\n",
              "\n",
              "    .colab-df-convert:hover {\n",
              "      background-color: #E2EBFA;\n",
              "      box-shadow: 0px 1px 2px rgba(60, 64, 67, 0.3), 0px 1px 3px 1px rgba(60, 64, 67, 0.15);\n",
              "      fill: #174EA6;\n",
              "    }\n",
              "\n",
              "    [theme=dark] .colab-df-convert {\n",
              "      background-color: #3B4455;\n",
              "      fill: #D2E3FC;\n",
              "    }\n",
              "\n",
              "    [theme=dark] .colab-df-convert:hover {\n",
              "      background-color: #434B5C;\n",
              "      box-shadow: 0px 1px 3px 1px rgba(0, 0, 0, 0.15);\n",
              "      filter: drop-shadow(0px 1px 2px rgba(0, 0, 0, 0.3));\n",
              "      fill: #FFFFFF;\n",
              "    }\n",
              "  </style>\n",
              "\n",
              "      <script>\n",
              "        const buttonEl =\n",
              "          document.querySelector('#df-4b790dae-03c1-4f87-88c2-1d34ee09471b button.colab-df-convert');\n",
              "        buttonEl.style.display =\n",
              "          google.colab.kernel.accessAllowed ? 'block' : 'none';\n",
              "\n",
              "        async function convertToInteractive(key) {\n",
              "          const element = document.querySelector('#df-4b790dae-03c1-4f87-88c2-1d34ee09471b');\n",
              "          const dataTable =\n",
              "            await google.colab.kernel.invokeFunction('convertToInteractive',\n",
              "                                                     [key], {});\n",
              "          if (!dataTable) return;\n",
              "\n",
              "          const docLinkHtml = 'Like what you see? Visit the ' +\n",
              "            '<a target=\"_blank\" href=https://colab.research.google.com/notebooks/data_table.ipynb>data table notebook</a>'\n",
              "            + ' to learn more about interactive tables.';\n",
              "          element.innerHTML = '';\n",
              "          dataTable['output_type'] = 'display_data';\n",
              "          await google.colab.output.renderOutput(dataTable, element);\n",
              "          const docLink = document.createElement('div');\n",
              "          docLink.innerHTML = docLinkHtml;\n",
              "          element.appendChild(docLink);\n",
              "        }\n",
              "      </script>\n",
              "    </div>\n",
              "  </div>\n",
              "  "
            ],
            "application/vnd.google.colaboratory.module+javascript": "\n      import \"https://ssl.gstatic.com/colaboratory/data_table/a8bd4d5e58f96183/data_table.js\";\n\n      window.createDataTable({\n        data: [[{\n            'v': 0,\n            'f': \"0\",\n        },\n\"CPC\",\nnull,\n{\n            'v': 3160,\n            'f': \"3160\",\n        }],\n [{\n            'v': 1,\n            'f': \"1\",\n        },\n\"ORGANIC\",\nnull,\n{\n            'v': 9965,\n            'f': \"9965\",\n        }],\n [{\n            'v': 2,\n            'f': \"2\",\n        },\n\"SMS\",\nnull,\n{\n            'v': 660,\n            'f': \"660\",\n        }],\n [{\n            'v': 3,\n            'f': \"3\",\n        },\n\"ORGANIC\",\n\"06/20\",\n{\n            'v': 420,\n            'f': \"420\",\n        }],\n [{\n            'v': 4,\n            'f': \"4\",\n        },\n\"ORGANIC\",\n\"09/20\",\n{\n            'v': 812,\n            'f': \"812\",\n        }],\n [{\n            'v': 5,\n            'f': \"5\",\n        },\n\"ORGANIC\",\n\"01/20\",\n{\n            'v': 915,\n            'f': \"915\",\n        }],\n [{\n            'v': 6,\n            'f': \"6\",\n        },\n\"ORGANIC\",\n\"05/20\",\n{\n            'v': 580,\n            'f': \"580\",\n        }],\n [{\n            'v': 7,\n            'f': \"7\",\n        },\n\"ORGANIC\",\n\"12/20\",\n{\n            'v': 533,\n            'f': \"533\",\n        }],\n [{\n            'v': 8,\n            'f': \"8\",\n        },\n\"ORGANIC\",\n\"08/20\",\n{\n            'v': 821,\n            'f': \"821\",\n        }],\n [{\n            'v': 9,\n            'f': \"9\",\n        },\n\"ORGANIC\",\n\"10/20\",\n{\n            'v': 712,\n            'f': \"712\",\n        }],\n [{\n            'v': 10,\n            'f': \"10\",\n        },\n\"ORGANIC\",\n\"04/20\",\n{\n            'v': 717,\n            'f': \"717\",\n        }],\n [{\n            'v': 11,\n            'f': \"11\",\n        },\n\"CPC\",\n\"12/20\",\n{\n            'v': 204,\n            'f': \"204\",\n        }],\n [{\n            'v': 12,\n            'f': \"12\",\n        },\n\"CPC\",\n\"09/20\",\n{\n            'v': 219,\n            'f': \"219\",\n        }],\n [{\n            'v': 13,\n            'f': \"13\",\n        },\n\"CPC\",\n\"04/20\",\n{\n            'v': 183,\n            'f': \"183\",\n        }],\n [{\n            'v': 14,\n            'f': \"14\",\n        },\n\"ORGANIC\",\n\"11/20\",\n{\n            'v': 498,\n            'f': \"498\",\n        }],\n [{\n            'v': 15,\n            'f': \"15\",\n        },\n\"ORGANIC\",\n\"02/20\",\n{\n            'v': 825,\n            'f': \"825\",\n        }],\n [{\n            'v': 16,\n            'f': \"16\",\n        },\n\"ORGANIC\",\n\"03/20\",\n{\n            'v': 738,\n            'f': \"738\",\n        }],\n [{\n            'v': 17,\n            'f': \"17\",\n        },\n\"CPC\",\n\"05/20\",\n{\n            'v': 155,\n            'f': \"155\",\n        }],\n [{\n            'v': 18,\n            'f': \"18\",\n        },\n\"CPC\",\n\"11/20\",\n{\n            'v': 188,\n            'f': \"188\",\n        }],\n [{\n            'v': 19,\n            'f': \"19\",\n        },\n\"CPC\",\n\"06/20\",\n{\n            'v': 154,\n            'f': \"154\",\n        }],\n [{\n            'v': 20,\n            'f': \"20\",\n        },\n\"SMS\",\n\"01/20\",\n{\n            'v': 32,\n            'f': \"32\",\n        }],\n [{\n            'v': 21,\n            'f': \"21\",\n        },\n\"SMS\",\n\"03/20\",\n{\n            'v': 34,\n            'f': \"34\",\n        }],\n [{\n            'v': 22,\n            'f': \"22\",\n        },\n\"SMS\",\n\"10/20\",\n{\n            'v': 35,\n            'f': \"35\",\n        }],\n [{\n            'v': 23,\n            'f': \"23\",\n        },\n\"SMS\",\n\"04/20\",\n{\n            'v': 15,\n            'f': \"15\",\n        }],\n [{\n            'v': 24,\n            'f': \"24\",\n        },\n\"SMS\",\n\"12/20\",\n{\n            'v': 62,\n            'f': \"62\",\n        }],\n [{\n            'v': 25,\n            'f': \"25\",\n        },\n\"SMS\",\n\"02/20\",\n{\n            'v': 15,\n            'f': \"15\",\n        }],\n [{\n            'v': 26,\n            'f': \"26\",\n        },\n\"SMS\",\n\"09/20\",\n{\n            'v': 25,\n            'f': \"25\",\n        }],\n [{\n            'v': 27,\n            'f': \"27\",\n        },\n\"CPC\",\n\"08/20\",\n{\n            'v': 234,\n            'f': \"234\",\n        }],\n [{\n            'v': 28,\n            'f': \"28\",\n        },\n\"CPC\",\n\"01/20\",\n{\n            'v': 165,\n            'f': \"165\",\n        }],\n [{\n            'v': 29,\n            'f': \"29\",\n        },\n\"CPC\",\n\"02/20\",\n{\n            'v': 180,\n            'f': \"180\",\n        }],\n [{\n            'v': 30,\n            'f': \"30\",\n        },\n\"CPC\",\n\"10/20\",\n{\n            'v': 186,\n            'f': \"186\",\n        }],\n [{\n            'v': 31,\n            'f': \"31\",\n        },\n\"CPC\",\n\"03/20\",\n{\n            'v': 176,\n            'f': \"176\",\n        }],\n [{\n            'v': 32,\n            'f': \"32\",\n        },\n\"SMS\",\n\"05/20\",\n{\n            'v': 21,\n            'f': \"21\",\n        }],\n [{\n            'v': 33,\n            'f': \"33\",\n        },\n\"SMS\",\n\"08/20\",\n{\n            'v': 25,\n            'f': \"25\",\n        }],\n [{\n            'v': 34,\n            'f': \"34\",\n        },\n\"SMS\",\n\"06/20\",\n{\n            'v': 12,\n            'f': \"12\",\n        }],\n [{\n            'v': 35,\n            'f': \"35\",\n        },\n\"SMS\",\n\"11/20\",\n{\n            'v': 33,\n            'f': \"33\",\n        }]],\n        columns: [[\"number\", \"index\"], [\"string\", \"TIPO_MIDIA\"], [\"string\", \"MES_ANO\"], [\"number\", \"QUANTIDADE\"]],\n        columnOptions: [{\"width\": \"1px\", \"className\": \"index_column\"}],\n        rowsPerPage: 25,\n        helpUrl: \"https://colab.research.google.com/notebooks/data_table.ipynb\",\n        suppressOutputScrolling: true,\n        minimumWidth: undefined,\n      });\n    "
          },
          "metadata": {},
          "execution_count": 4
        }
      ]
    },
    {
      "cell_type": "markdown",
      "source": [
        "extração"
      ],
      "metadata": {
        "id": "7CpYIzHT3K9O"
      }
    },
    {
      "cell_type": "markdown",
      "source": [
        "##**. Extração dos Dados**"
      ],
      "metadata": {
        "id": "_T1LAFdk-xHg"
      }
    },
    {
      "cell_type": "code",
      "source": [
        "# @title Extração\n",
        "\n",
        "df = results\n",
        "df.to_excel('/content/ligacoes_nao_recep.xlsx', index = False)"
      ],
      "metadata": {
        "id": "67E5JzDt2ygA",
        "cellView": "form"
      },
      "execution_count": null,
      "outputs": []
    },
    {
      "cell_type": "markdown",
      "source": [],
      "metadata": {
        "id": "ffWSfotr8Hi1"
      }
    },
    {
      "cell_type": "markdown",
      "source": [
        "##**. Conexão ao GCP**"
      ],
      "metadata": {
        "id": "54mit9Lu-5kX"
      }
    },
    {
      "cell_type": "code",
      "source": [
        "# @title Conexão ao GCP\n",
        "\n",
        "serviceAccount = '/content/athenas-364914-4e16df1244dc.json'\n",
        "os.environ['GOOGLE_APPLICATION_CREDENTIALS'] = serviceAccount"
      ],
      "metadata": {
        "cellView": "form",
        "id": "_B3xNoOy8IdU"
      },
      "execution_count": null,
      "outputs": []
    },
    {
      "cell_type": "markdown",
      "source": [
        "##**. Inserindo Excell no GCP**"
      ],
      "metadata": {
        "id": "dCNzFSeh_B-Q"
      }
    },
    {
      "cell_type": "code",
      "source": [
        "# @title Inserindo Excell no GCP\n",
        "\n",
        "\n",
        "client = storage.Client.from_service_account_json(json_credentials_path='/content/athenas-364914-4e16df1244dc.json')\n",
        "bucket = client.get_bucket('saida_modelagem')\n",
        "object_name_in_gcs_bucket = bucket.blob('ligacoes_nao_recep.xlsx')\n",
        "object_name_in_gcs_bucket.upload_from_filename('ligacoes_nao_recep.xlsx')\n"
      ],
      "metadata": {
        "id": "CtbU7zog3OO1"
      },
      "execution_count": null,
      "outputs": []
    }
  ]
}