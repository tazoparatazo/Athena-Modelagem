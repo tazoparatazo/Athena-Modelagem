{
  "nbformat": 4,
  "nbformat_minor": 0,
  "metadata": {
    "colab": {
      "provenance": [],
      "collapsed_sections": [
        "5-UVKC9__Y1J",
        "O8qTCDTK-LX5",
        "e4grHbth-OMf",
        "EWYevFn5-bDx",
        "tYE7EOjF-U_n",
        "_T1LAFdk-xHg",
        "54mit9Lu-5kX",
        "dCNzFSeh_B-Q"
      ]
    },
    "kernelspec": {
      "name": "python3",
      "display_name": "Python 3"
    },
    "language_info": {
      "name": "python"
    }
  },
  "cells": [
    {
      "cell_type": "markdown",
      "source": [
        "#**. Executar Extração**"
      ],
      "metadata": {
        "id": "5-UVKC9__Y1J"
      }
    },
    {
      "cell_type": "markdown",
      "source": [
        "##**. Instalação**"
      ],
      "metadata": {
        "id": "O8qTCDTK-LX5"
      }
    },
    {
      "cell_type": "code",
      "execution_count": null,
      "metadata": {
        "colab": {
          "base_uri": "https://localhost:8080/"
        },
        "cellView": "form",
        "id": "AgmxznBb0tqh",
        "outputId": "05598201-5668-42c3-de89-c6e3cad91b30"
      },
      "outputs": [
        {
          "output_type": "stream",
          "name": "stdout",
          "text": [
            "Looking in indexes: https://pypi.org/simple, https://us-python.pkg.dev/colab-wheels/public/simple/\n",
            "Requirement already satisfied: pandas in /usr/local/lib/python3.7/dist-packages (1.3.5)\n",
            "Requirement already satisfied: pytz>=2017.3 in /usr/local/lib/python3.7/dist-packages (from pandas) (2022.4)\n",
            "Requirement already satisfied: python-dateutil>=2.7.3 in /usr/local/lib/python3.7/dist-packages (from pandas) (2.8.2)\n",
            "Requirement already satisfied: numpy>=1.17.3 in /usr/local/lib/python3.7/dist-packages (from pandas) (1.21.6)\n",
            "Requirement already satisfied: six>=1.5 in /usr/local/lib/python3.7/dist-packages (from python-dateutil>=2.7.3->pandas) (1.15.0)\n",
            "Looking in indexes: https://pypi.org/simple, https://us-python.pkg.dev/colab-wheels/public/simple/\n",
            "Collecting gcsfs\n",
            "  Downloading gcsfs-2022.8.2-py2.py3-none-any.whl (25 kB)\n",
            "Requirement already satisfied: fsspec==2022.8.2 in /usr/local/lib/python3.7/dist-packages (from gcsfs) (2022.8.2)\n",
            "Requirement already satisfied: decorator>4.1.2 in /usr/local/lib/python3.7/dist-packages (from gcsfs) (4.4.2)\n",
            "Requirement already satisfied: aiohttp!=4.0.0a0,!=4.0.0a1 in /usr/local/lib/python3.7/dist-packages (from gcsfs) (3.8.3)\n",
            "Requirement already satisfied: google-auth-oauthlib in /usr/local/lib/python3.7/dist-packages (from gcsfs) (0.4.6)\n",
            "Requirement already satisfied: google-auth>=1.2 in /usr/local/lib/python3.7/dist-packages (from gcsfs) (1.35.0)\n",
            "Requirement already satisfied: requests in /usr/local/lib/python3.7/dist-packages (from gcsfs) (2.23.0)\n",
            "Requirement already satisfied: google-cloud-storage in /usr/local/lib/python3.7/dist-packages (from gcsfs) (1.18.1)\n",
            "Requirement already satisfied: frozenlist>=1.1.1 in /usr/local/lib/python3.7/dist-packages (from aiohttp!=4.0.0a0,!=4.0.0a1->gcsfs) (1.3.1)\n",
            "Requirement already satisfied: attrs>=17.3.0 in /usr/local/lib/python3.7/dist-packages (from aiohttp!=4.0.0a0,!=4.0.0a1->gcsfs) (22.1.0)\n",
            "Requirement already satisfied: yarl<2.0,>=1.0 in /usr/local/lib/python3.7/dist-packages (from aiohttp!=4.0.0a0,!=4.0.0a1->gcsfs) (1.8.1)\n",
            "Requirement already satisfied: multidict<7.0,>=4.5 in /usr/local/lib/python3.7/dist-packages (from aiohttp!=4.0.0a0,!=4.0.0a1->gcsfs) (6.0.2)\n",
            "Requirement already satisfied: charset-normalizer<3.0,>=2.0 in /usr/local/lib/python3.7/dist-packages (from aiohttp!=4.0.0a0,!=4.0.0a1->gcsfs) (2.1.1)\n",
            "Requirement already satisfied: typing-extensions>=3.7.4 in /usr/local/lib/python3.7/dist-packages (from aiohttp!=4.0.0a0,!=4.0.0a1->gcsfs) (4.1.1)\n",
            "Requirement already satisfied: asynctest==0.13.0 in /usr/local/lib/python3.7/dist-packages (from aiohttp!=4.0.0a0,!=4.0.0a1->gcsfs) (0.13.0)\n",
            "Requirement already satisfied: aiosignal>=1.1.2 in /usr/local/lib/python3.7/dist-packages (from aiohttp!=4.0.0a0,!=4.0.0a1->gcsfs) (1.2.0)\n",
            "Requirement already satisfied: async-timeout<5.0,>=4.0.0a3 in /usr/local/lib/python3.7/dist-packages (from aiohttp!=4.0.0a0,!=4.0.0a1->gcsfs) (4.0.2)\n",
            "Requirement already satisfied: cachetools<5.0,>=2.0.0 in /usr/local/lib/python3.7/dist-packages (from google-auth>=1.2->gcsfs) (4.2.4)\n",
            "Requirement already satisfied: pyasn1-modules>=0.2.1 in /usr/local/lib/python3.7/dist-packages (from google-auth>=1.2->gcsfs) (0.2.8)\n",
            "Requirement already satisfied: setuptools>=40.3.0 in /usr/local/lib/python3.7/dist-packages (from google-auth>=1.2->gcsfs) (57.4.0)\n",
            "Requirement already satisfied: rsa<5,>=3.1.4 in /usr/local/lib/python3.7/dist-packages (from google-auth>=1.2->gcsfs) (4.9)\n",
            "Requirement already satisfied: six>=1.9.0 in /usr/local/lib/python3.7/dist-packages (from google-auth>=1.2->gcsfs) (1.15.0)\n",
            "Requirement already satisfied: pyasn1<0.5.0,>=0.4.6 in /usr/local/lib/python3.7/dist-packages (from pyasn1-modules>=0.2.1->google-auth>=1.2->gcsfs) (0.4.8)\n",
            "Requirement already satisfied: idna>=2.0 in /usr/local/lib/python3.7/dist-packages (from yarl<2.0,>=1.0->aiohttp!=4.0.0a0,!=4.0.0a1->gcsfs) (2.10)\n",
            "Requirement already satisfied: requests-oauthlib>=0.7.0 in /usr/local/lib/python3.7/dist-packages (from google-auth-oauthlib->gcsfs) (1.3.1)\n",
            "Requirement already satisfied: oauthlib>=3.0.0 in /usr/local/lib/python3.7/dist-packages (from requests-oauthlib>=0.7.0->google-auth-oauthlib->gcsfs) (3.2.1)\n",
            "Requirement already satisfied: certifi>=2017.4.17 in /usr/local/lib/python3.7/dist-packages (from requests->gcsfs) (2022.9.24)\n",
            "Requirement already satisfied: urllib3!=1.25.0,!=1.25.1,<1.26,>=1.21.1 in /usr/local/lib/python3.7/dist-packages (from requests->gcsfs) (1.24.3)\n",
            "Requirement already satisfied: chardet<4,>=3.0.2 in /usr/local/lib/python3.7/dist-packages (from requests->gcsfs) (3.0.4)\n",
            "Requirement already satisfied: google-cloud-core<2.0dev,>=1.0.0 in /usr/local/lib/python3.7/dist-packages (from google-cloud-storage->gcsfs) (1.0.3)\n",
            "Requirement already satisfied: google-resumable-media<0.5.0dev,>=0.3.1 in /usr/local/lib/python3.7/dist-packages (from google-cloud-storage->gcsfs) (0.4.1)\n",
            "Requirement already satisfied: google-api-core<2.0.0dev,>=1.14.0 in /usr/local/lib/python3.7/dist-packages (from google-cloud-core<2.0dev,>=1.0.0->google-cloud-storage->gcsfs) (1.31.6)\n",
            "Requirement already satisfied: pytz in /usr/local/lib/python3.7/dist-packages (from google-api-core<2.0.0dev,>=1.14.0->google-cloud-core<2.0dev,>=1.0.0->google-cloud-storage->gcsfs) (2022.4)\n",
            "Requirement already satisfied: googleapis-common-protos<2.0dev,>=1.6.0 in /usr/local/lib/python3.7/dist-packages (from google-api-core<2.0.0dev,>=1.14.0->google-cloud-core<2.0dev,>=1.0.0->google-cloud-storage->gcsfs) (1.56.4)\n",
            "Requirement already satisfied: packaging>=14.3 in /usr/local/lib/python3.7/dist-packages (from google-api-core<2.0.0dev,>=1.14.0->google-cloud-core<2.0dev,>=1.0.0->google-cloud-storage->gcsfs) (21.3)\n",
            "Requirement already satisfied: protobuf<4.0.0dev,>=3.12.0 in /usr/local/lib/python3.7/dist-packages (from google-api-core<2.0.0dev,>=1.14.0->google-cloud-core<2.0dev,>=1.0.0->google-cloud-storage->gcsfs) (3.17.3)\n",
            "Requirement already satisfied: pyparsing!=3.0.5,>=2.0.2 in /usr/local/lib/python3.7/dist-packages (from packaging>=14.3->google-api-core<2.0.0dev,>=1.14.0->google-cloud-core<2.0dev,>=1.0.0->google-cloud-storage->gcsfs) (3.0.9)\n",
            "Installing collected packages: gcsfs\n",
            "Successfully installed gcsfs-2022.8.2\n"
          ]
        }
      ],
      "source": [
        "# @title Instalação\n",
        "!pip install pandas\n",
        "!pip install gcsfs"
      ]
    },
    {
      "cell_type": "markdown",
      "source": [
        "##**. Setup**"
      ],
      "metadata": {
        "id": "e4grHbth-OMf"
      }
    },
    {
      "cell_type": "code",
      "execution_count": null,
      "metadata": {
        "cellView": "form",
        "id": "w6MmeBUBJ-9E"
      },
      "outputs": [],
      "source": [
        "# @title Setup\n",
        "\n",
        "from google.colab import auth\n",
        "from google.cloud import bigquery\n",
        "from google.colab import data_table\n",
        "from google.cloud import storage\n",
        "import pandas as pd\n",
        "import os\n",
        "\n",
        "project = 'athenas-364914' \n",
        "location = 'US' \n",
        "client = bigquery.Client(project=project, location=location)\n",
        "data_table.enable_dataframe_formatter()\n",
        "auth.authenticate_user()"
      ]
    },
    {
      "cell_type": "markdown",
      "source": [
        "##**. Visualização de Querry**"
      ],
      "metadata": {
        "id": "EWYevFn5-bDx"
      }
    },
    {
      "cell_type": "code",
      "source": [
        "# @title SQL de consulta\n",
        "\n",
        "job = client.get_job('bquxjob_6f8a23e9_183c3bd4c53') \n",
        "print(job.query)"
      ],
      "metadata": {
        "colab": {
          "base_uri": "https://localhost:8080/"
        },
        "id": "azhY4dCK11hM",
        "outputId": "12bbfb34-41d4-48e2-9b1b-b8905910e45f",
        "cellView": "form"
      },
      "execution_count": null,
      "outputs": [
        {
          "output_type": "stream",
          "name": "stdout",
          "text": [
            "SELECT\r\n",
            "  `athenas-364914.Athenas2.Ligacoes_dist`.midia AS TIPO_MIDIA,\r\n",
            "  `athenas-364914.Athenas2.Ligacoes_dist`.description AS STATUS_FINAL,\r\n",
            "  FORMAT_DATETIME('%D',`athenas-364914.Athenas2.Ligacoes_dist`.created_at)AS DATA,\r\n",
            "  COUNT(`athenas-364914.Athenas2.Ligacoes_dist`.status_id) AS QUANTIDADE\r\n",
            "FROM\r\n",
            "  `athenas-364914.Athenas2.Ligacoes_dist`\r\n",
            "WHERE\r\n",
            "  `athenas-364914.Athenas2.Ligacoes_dist`.status_id IN\r\n",
            "  (57,100)\r\n",
            "GROUP BY\r\n",
            "  DATA,\r\n",
            "  TIPO_MIDIA,\r\n",
            "  STATUS_FINAL;\n"
          ]
        }
      ]
    },
    {
      "cell_type": "markdown",
      "source": [
        "##**. Visualização de Dados**"
      ],
      "metadata": {
        "id": "tYE7EOjF-U_n"
      }
    },
    {
      "cell_type": "code",
      "source": [
        "# @title Visualização\n",
        "\n",
        "job = client.get_job('bquxjob_6f8a23e9_183c3bd4c53') \n",
        "results = job.to_dataframe()\n",
        "results"
      ],
      "metadata": {
        "colab": {
          "base_uri": "https://localhost:8080/",
          "height": 456
        },
        "cellView": "form",
        "id": "hZ1NUxs72Bfo",
        "outputId": "a5207d89-8cc3-4360-f976-955c589ee210"
      },
      "execution_count": null,
      "outputs": [
        {
          "output_type": "execute_result",
          "data": {
            "text/plain": [
              "   TIPO_MIDIA STATUS_FINAL      DATA  QUANTIDADE\n",
              "0         SMS  Atendimento      None           2\n",
              "1     ORGANIC  Atendimento  08/06/20           6\n",
              "2     ORGANIC  Atendimento      None          23\n",
              "3     ORGANIC  Atendimento  04/06/20           3\n",
              "4     ORGANIC  Atendimento  01/06/20           6\n",
              "5     ORGANIC  Atendimento  02/06/20           4\n",
              "6     ORGANIC  Atendimento  06/06/20           1\n",
              "7     ORGANIC  Atendimento  05/06/20           2\n",
              "8     ORGANIC  Atendimento  11/06/20           2\n",
              "9     ORGANIC  Atendimento  03/06/20           2\n",
              "10        CPC  Atendimento  09/06/20           1\n",
              "11        CPC  Atendimento      None           3\n",
              "12        CPC  Atendimento  11/06/20           1\n",
              "13        CPC  Atendimento  12/06/20           1\n",
              "14    ORGANIC  Atendimento  12/06/20           1\n",
              "15    ORGANIC  Atendimento  10/06/20           2\n",
              "16        CPC  Atendimento  02/06/20           1"
            ],
            "text/html": [
              "\n",
              "  <div id=\"df-e9f5dc48-4428-4c55-94b3-a1db51b12d80\">\n",
              "    <div class=\"colab-df-container\">\n",
              "      <div>\n",
              "<style scoped>\n",
              "    .dataframe tbody tr th:only-of-type {\n",
              "        vertical-align: middle;\n",
              "    }\n",
              "\n",
              "    .dataframe tbody tr th {\n",
              "        vertical-align: top;\n",
              "    }\n",
              "\n",
              "    .dataframe thead th {\n",
              "        text-align: right;\n",
              "    }\n",
              "</style>\n",
              "<table border=\"1\" class=\"dataframe\">\n",
              "  <thead>\n",
              "    <tr style=\"text-align: right;\">\n",
              "      <th></th>\n",
              "      <th>TIPO_MIDIA</th>\n",
              "      <th>STATUS_FINAL</th>\n",
              "      <th>DATA</th>\n",
              "      <th>QUANTIDADE</th>\n",
              "    </tr>\n",
              "  </thead>\n",
              "  <tbody>\n",
              "    <tr>\n",
              "      <th>0</th>\n",
              "      <td>SMS</td>\n",
              "      <td>Atendimento</td>\n",
              "      <td>None</td>\n",
              "      <td>2</td>\n",
              "    </tr>\n",
              "    <tr>\n",
              "      <th>1</th>\n",
              "      <td>ORGANIC</td>\n",
              "      <td>Atendimento</td>\n",
              "      <td>08/06/20</td>\n",
              "      <td>6</td>\n",
              "    </tr>\n",
              "    <tr>\n",
              "      <th>2</th>\n",
              "      <td>ORGANIC</td>\n",
              "      <td>Atendimento</td>\n",
              "      <td>None</td>\n",
              "      <td>23</td>\n",
              "    </tr>\n",
              "    <tr>\n",
              "      <th>3</th>\n",
              "      <td>ORGANIC</td>\n",
              "      <td>Atendimento</td>\n",
              "      <td>04/06/20</td>\n",
              "      <td>3</td>\n",
              "    </tr>\n",
              "    <tr>\n",
              "      <th>4</th>\n",
              "      <td>ORGANIC</td>\n",
              "      <td>Atendimento</td>\n",
              "      <td>01/06/20</td>\n",
              "      <td>6</td>\n",
              "    </tr>\n",
              "    <tr>\n",
              "      <th>5</th>\n",
              "      <td>ORGANIC</td>\n",
              "      <td>Atendimento</td>\n",
              "      <td>02/06/20</td>\n",
              "      <td>4</td>\n",
              "    </tr>\n",
              "    <tr>\n",
              "      <th>6</th>\n",
              "      <td>ORGANIC</td>\n",
              "      <td>Atendimento</td>\n",
              "      <td>06/06/20</td>\n",
              "      <td>1</td>\n",
              "    </tr>\n",
              "    <tr>\n",
              "      <th>7</th>\n",
              "      <td>ORGANIC</td>\n",
              "      <td>Atendimento</td>\n",
              "      <td>05/06/20</td>\n",
              "      <td>2</td>\n",
              "    </tr>\n",
              "    <tr>\n",
              "      <th>8</th>\n",
              "      <td>ORGANIC</td>\n",
              "      <td>Atendimento</td>\n",
              "      <td>11/06/20</td>\n",
              "      <td>2</td>\n",
              "    </tr>\n",
              "    <tr>\n",
              "      <th>9</th>\n",
              "      <td>ORGANIC</td>\n",
              "      <td>Atendimento</td>\n",
              "      <td>03/06/20</td>\n",
              "      <td>2</td>\n",
              "    </tr>\n",
              "    <tr>\n",
              "      <th>10</th>\n",
              "      <td>CPC</td>\n",
              "      <td>Atendimento</td>\n",
              "      <td>09/06/20</td>\n",
              "      <td>1</td>\n",
              "    </tr>\n",
              "    <tr>\n",
              "      <th>11</th>\n",
              "      <td>CPC</td>\n",
              "      <td>Atendimento</td>\n",
              "      <td>None</td>\n",
              "      <td>3</td>\n",
              "    </tr>\n",
              "    <tr>\n",
              "      <th>12</th>\n",
              "      <td>CPC</td>\n",
              "      <td>Atendimento</td>\n",
              "      <td>11/06/20</td>\n",
              "      <td>1</td>\n",
              "    </tr>\n",
              "    <tr>\n",
              "      <th>13</th>\n",
              "      <td>CPC</td>\n",
              "      <td>Atendimento</td>\n",
              "      <td>12/06/20</td>\n",
              "      <td>1</td>\n",
              "    </tr>\n",
              "    <tr>\n",
              "      <th>14</th>\n",
              "      <td>ORGANIC</td>\n",
              "      <td>Atendimento</td>\n",
              "      <td>12/06/20</td>\n",
              "      <td>1</td>\n",
              "    </tr>\n",
              "    <tr>\n",
              "      <th>15</th>\n",
              "      <td>ORGANIC</td>\n",
              "      <td>Atendimento</td>\n",
              "      <td>10/06/20</td>\n",
              "      <td>2</td>\n",
              "    </tr>\n",
              "    <tr>\n",
              "      <th>16</th>\n",
              "      <td>CPC</td>\n",
              "      <td>Atendimento</td>\n",
              "      <td>02/06/20</td>\n",
              "      <td>1</td>\n",
              "    </tr>\n",
              "  </tbody>\n",
              "</table>\n",
              "</div>\n",
              "      <button class=\"colab-df-convert\" onclick=\"convertToInteractive('df-e9f5dc48-4428-4c55-94b3-a1db51b12d80')\"\n",
              "              title=\"Convert this dataframe to an interactive table.\"\n",
              "              style=\"display:none;\">\n",
              "        \n",
              "  <svg xmlns=\"http://www.w3.org/2000/svg\" height=\"24px\"viewBox=\"0 0 24 24\"\n",
              "       width=\"24px\">\n",
              "    <path d=\"M0 0h24v24H0V0z\" fill=\"none\"/>\n",
              "    <path d=\"M18.56 5.44l.94 2.06.94-2.06 2.06-.94-2.06-.94-.94-2.06-.94 2.06-2.06.94zm-11 1L8.5 8.5l.94-2.06 2.06-.94-2.06-.94L8.5 2.5l-.94 2.06-2.06.94zm10 10l.94 2.06.94-2.06 2.06-.94-2.06-.94-.94-2.06-.94 2.06-2.06.94z\"/><path d=\"M17.41 7.96l-1.37-1.37c-.4-.4-.92-.59-1.43-.59-.52 0-1.04.2-1.43.59L10.3 9.45l-7.72 7.72c-.78.78-.78 2.05 0 2.83L4 21.41c.39.39.9.59 1.41.59.51 0 1.02-.2 1.41-.59l7.78-7.78 2.81-2.81c.8-.78.8-2.07 0-2.86zM5.41 20L4 18.59l7.72-7.72 1.47 1.35L5.41 20z\"/>\n",
              "  </svg>\n",
              "      </button>\n",
              "      \n",
              "  <style>\n",
              "    .colab-df-container {\n",
              "      display:flex;\n",
              "      flex-wrap:wrap;\n",
              "      gap: 12px;\n",
              "    }\n",
              "\n",
              "    .colab-df-convert {\n",
              "      background-color: #E8F0FE;\n",
              "      border: none;\n",
              "      border-radius: 50%;\n",
              "      cursor: pointer;\n",
              "      display: none;\n",
              "      fill: #1967D2;\n",
              "      height: 32px;\n",
              "      padding: 0 0 0 0;\n",
              "      width: 32px;\n",
              "    }\n",
              "\n",
              "    .colab-df-convert:hover {\n",
              "      background-color: #E2EBFA;\n",
              "      box-shadow: 0px 1px 2px rgba(60, 64, 67, 0.3), 0px 1px 3px 1px rgba(60, 64, 67, 0.15);\n",
              "      fill: #174EA6;\n",
              "    }\n",
              "\n",
              "    [theme=dark] .colab-df-convert {\n",
              "      background-color: #3B4455;\n",
              "      fill: #D2E3FC;\n",
              "    }\n",
              "\n",
              "    [theme=dark] .colab-df-convert:hover {\n",
              "      background-color: #434B5C;\n",
              "      box-shadow: 0px 1px 3px 1px rgba(0, 0, 0, 0.15);\n",
              "      filter: drop-shadow(0px 1px 2px rgba(0, 0, 0, 0.3));\n",
              "      fill: #FFFFFF;\n",
              "    }\n",
              "  </style>\n",
              "\n",
              "      <script>\n",
              "        const buttonEl =\n",
              "          document.querySelector('#df-e9f5dc48-4428-4c55-94b3-a1db51b12d80 button.colab-df-convert');\n",
              "        buttonEl.style.display =\n",
              "          google.colab.kernel.accessAllowed ? 'block' : 'none';\n",
              "\n",
              "        async function convertToInteractive(key) {\n",
              "          const element = document.querySelector('#df-e9f5dc48-4428-4c55-94b3-a1db51b12d80');\n",
              "          const dataTable =\n",
              "            await google.colab.kernel.invokeFunction('convertToInteractive',\n",
              "                                                     [key], {});\n",
              "          if (!dataTable) return;\n",
              "\n",
              "          const docLinkHtml = 'Like what you see? Visit the ' +\n",
              "            '<a target=\"_blank\" href=https://colab.research.google.com/notebooks/data_table.ipynb>data table notebook</a>'\n",
              "            + ' to learn more about interactive tables.';\n",
              "          element.innerHTML = '';\n",
              "          dataTable['output_type'] = 'display_data';\n",
              "          await google.colab.output.renderOutput(dataTable, element);\n",
              "          const docLink = document.createElement('div');\n",
              "          docLink.innerHTML = docLinkHtml;\n",
              "          element.appendChild(docLink);\n",
              "        }\n",
              "      </script>\n",
              "    </div>\n",
              "  </div>\n",
              "  "
            ],
            "application/vnd.google.colaboratory.module+javascript": "\n      import \"https://ssl.gstatic.com/colaboratory/data_table/a8bd4d5e58f96183/data_table.js\";\n\n      window.createDataTable({\n        data: [[{\n            'v': 0,\n            'f': \"0\",\n        },\n\"SMS\",\n\"Atendimento\",\nnull,\n{\n            'v': 2,\n            'f': \"2\",\n        }],\n [{\n            'v': 1,\n            'f': \"1\",\n        },\n\"ORGANIC\",\n\"Atendimento\",\n\"08/06/20\",\n{\n            'v': 6,\n            'f': \"6\",\n        }],\n [{\n            'v': 2,\n            'f': \"2\",\n        },\n\"ORGANIC\",\n\"Atendimento\",\nnull,\n{\n            'v': 23,\n            'f': \"23\",\n        }],\n [{\n            'v': 3,\n            'f': \"3\",\n        },\n\"ORGANIC\",\n\"Atendimento\",\n\"04/06/20\",\n{\n            'v': 3,\n            'f': \"3\",\n        }],\n [{\n            'v': 4,\n            'f': \"4\",\n        },\n\"ORGANIC\",\n\"Atendimento\",\n\"01/06/20\",\n{\n            'v': 6,\n            'f': \"6\",\n        }],\n [{\n            'v': 5,\n            'f': \"5\",\n        },\n\"ORGANIC\",\n\"Atendimento\",\n\"02/06/20\",\n{\n            'v': 4,\n            'f': \"4\",\n        }],\n [{\n            'v': 6,\n            'f': \"6\",\n        },\n\"ORGANIC\",\n\"Atendimento\",\n\"06/06/20\",\n{\n            'v': 1,\n            'f': \"1\",\n        }],\n [{\n            'v': 7,\n            'f': \"7\",\n        },\n\"ORGANIC\",\n\"Atendimento\",\n\"05/06/20\",\n{\n            'v': 2,\n            'f': \"2\",\n        }],\n [{\n            'v': 8,\n            'f': \"8\",\n        },\n\"ORGANIC\",\n\"Atendimento\",\n\"11/06/20\",\n{\n            'v': 2,\n            'f': \"2\",\n        }],\n [{\n            'v': 9,\n            'f': \"9\",\n        },\n\"ORGANIC\",\n\"Atendimento\",\n\"03/06/20\",\n{\n            'v': 2,\n            'f': \"2\",\n        }],\n [{\n            'v': 10,\n            'f': \"10\",\n        },\n\"CPC\",\n\"Atendimento\",\n\"09/06/20\",\n{\n            'v': 1,\n            'f': \"1\",\n        }],\n [{\n            'v': 11,\n            'f': \"11\",\n        },\n\"CPC\",\n\"Atendimento\",\nnull,\n{\n            'v': 3,\n            'f': \"3\",\n        }],\n [{\n            'v': 12,\n            'f': \"12\",\n        },\n\"CPC\",\n\"Atendimento\",\n\"11/06/20\",\n{\n            'v': 1,\n            'f': \"1\",\n        }],\n [{\n            'v': 13,\n            'f': \"13\",\n        },\n\"CPC\",\n\"Atendimento\",\n\"12/06/20\",\n{\n            'v': 1,\n            'f': \"1\",\n        }],\n [{\n            'v': 14,\n            'f': \"14\",\n        },\n\"ORGANIC\",\n\"Atendimento\",\n\"12/06/20\",\n{\n            'v': 1,\n            'f': \"1\",\n        }],\n [{\n            'v': 15,\n            'f': \"15\",\n        },\n\"ORGANIC\",\n\"Atendimento\",\n\"10/06/20\",\n{\n            'v': 2,\n            'f': \"2\",\n        }],\n [{\n            'v': 16,\n            'f': \"16\",\n        },\n\"CPC\",\n\"Atendimento\",\n\"02/06/20\",\n{\n            'v': 1,\n            'f': \"1\",\n        }]],\n        columns: [[\"number\", \"index\"], [\"string\", \"TIPO_MIDIA\"], [\"string\", \"STATUS_FINAL\"], [\"string\", \"DATA\"], [\"number\", \"QUANTIDADE\"]],\n        columnOptions: [{\"width\": \"1px\", \"className\": \"index_column\"}],\n        rowsPerPage: 25,\n        helpUrl: \"https://colab.research.google.com/notebooks/data_table.ipynb\",\n        suppressOutputScrolling: true,\n        minimumWidth: undefined,\n      });\n    "
          },
          "metadata": {},
          "execution_count": 5
        }
      ]
    },
    {
      "cell_type": "markdown",
      "source": [
        "extração"
      ],
      "metadata": {
        "id": "7CpYIzHT3K9O"
      }
    },
    {
      "cell_type": "markdown",
      "source": [
        "##**. Extração dos Dados**"
      ],
      "metadata": {
        "id": "_T1LAFdk-xHg"
      }
    },
    {
      "cell_type": "code",
      "source": [
        "# @title Extração\n",
        "\n",
        "df = results\n",
        "df.to_excel('/content/ligacoes_recep.xlsx', index = False)"
      ],
      "metadata": {
        "id": "67E5JzDt2ygA"
      },
      "execution_count": null,
      "outputs": []
    },
    {
      "cell_type": "markdown",
      "source": [],
      "metadata": {
        "id": "ffWSfotr8Hi1"
      }
    },
    {
      "cell_type": "markdown",
      "source": [
        "##**. Conexão ao GCP**"
      ],
      "metadata": {
        "id": "54mit9Lu-5kX"
      }
    },
    {
      "cell_type": "code",
      "source": [
        "# @title Conexão ao GCP\n",
        "\n",
        "serviceAccount = '/content/athenas-364914-4e16df1244dc.json'\n",
        "os.environ['GOOGLE_APPLICATION_CREDENTIALS'] = serviceAccount"
      ],
      "metadata": {
        "id": "_B3xNoOy8IdU"
      },
      "execution_count": null,
      "outputs": []
    },
    {
      "cell_type": "markdown",
      "source": [
        "##**. Inserindo Excell no GCP**"
      ],
      "metadata": {
        "id": "dCNzFSeh_B-Q"
      }
    },
    {
      "cell_type": "code",
      "source": [
        "# @title Inserindo Excell no GCP\n",
        "\n",
        "\n",
        "client = storage.Client.from_service_account_json(json_credentials_path='/content/athenas-364914-4e16df1244dc.json')\n",
        "bucket = client.get_bucket('saida_modelagem')\n",
        "object_name_in_gcs_bucket = bucket.blob('ligacoes_recep.xlsx')\n",
        "object_name_in_gcs_bucket.upload_from_filename('ligacoes_recep.xlsx')\n"
      ],
      "metadata": {
        "id": "CtbU7zog3OO1"
      },
      "execution_count": null,
      "outputs": []
    }
  ]
}